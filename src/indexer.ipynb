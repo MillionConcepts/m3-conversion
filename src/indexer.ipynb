{
 "cells": [
  {
   "cell_type": "markdown",
   "source": [
    "# m3 indexer\n",
    "\n",
    "Just a little snippet for generating collection indices. Not\n",
    "a core part of the conversion process, properly speaking, but\n",
    "mildly useful."
   ],
   "metadata": {
    "collapsed": false,
    "pycharm": {
     "name": "#%% md\n"
    }
   }
  },
  {
   "cell_type": "code",
   "execution_count": 1,
   "metadata": {},
   "outputs": [],
   "source": [
    "from fs.osfs import OSFS\n",
    "import pandas as pd\n",
    "\n",
    "from converter_utils import eqloc, reloc\n",
    "from m3_bulk import basenamer"
   ]
  },
  {
   "cell_type": "code",
   "execution_count": 2,
   "metadata": {},
   "outputs": [],
   "source": [
    "# abstraction for the root directory of the bundle\n",
    "bundle_fs = OSFS('/home/ubuntu/bundle')"
   ]
  },
  {
   "cell_type": "code",
   "execution_count": 3,
   "metadata": {},
   "outputs": [],
   "source": [
    "# list files in bundle\n",
    "out_df = pd.DataFrame(list(bundle_fs.walk.files()), columns=[\"path\"])"
   ]
  },
  {
   "cell_type": "code",
   "execution_count": 4,
   "metadata": {},
   "outputs": [],
   "source": [
    "data_files = reloc(out_df,'path',r'data/.*\\.', method='match')[['path']].copy()\n",
    "data_files['product_id_stem'] = data_files['path'].str.extract(r'(m3.*?l\\db?)[\\._]')\n",
    "grouped_ids = data_files['product_id_stem'].value_counts() # inspect for sanity check"
   ]
  },
  {
   "cell_type": "code",
   "execution_count": 5,
   "metadata": {},
   "outputs": [],
   "source": [
    "data_product_lidvids = [\n",
    "    'urn:nasa:pds:urn:nasa:pds:ch1_m3:data:' + stem + '::1.0'\n",
    "    for stem in data_files['product_id_stem'].unique()\n",
    "]\n",
    "# lid uniqueness check\n",
    "assert len(data_product_lidvids) == len(set(data_product_lidvids))"
   ]
  },
  {
   "cell_type": "code",
   "execution_count": 6,
   "metadata": {},
   "outputs": [],
   "source": [
    "# all our products are primary. also, readmes in this bundle will\n",
    "# be added manually, not as part of this automated process.\n",
    "\n",
    "collection_data_inventory = pd.DataFrame([\n",
    "    {\n",
    "        'type':'P', \n",
    "        'lidvid':lidvid\n",
    "    } for lidvid in data_product_lidvids\n",
    "])\n",
    "collection_data_inventory.to_csv(\n",
    "    './directories/m3/collection_data_inventory.csv', \n",
    "    header = None, \n",
    "    index = None,\n",
    "    line_terminator='\\r\\n'\n",
    ")"
   ]
  },
  {
   "cell_type": "code",
   "execution_count": 7,
   "metadata": {},
   "outputs": [],
   "source": [
    "doc_df = pd.read_csv('./directories/m3/m3_document_mappings.csv')"
   ]
  },
  {
   "cell_type": "code",
   "execution_count": 8,
   "metadata": {},
   "outputs": [],
   "source": [
    "doc_df['product_id'] = ''\n",
    "\n",
    "calibrations = {\n",
    "    'flat_field':'_ff',\n",
    "    'bad_detector':'_bde',\n",
    "    'smooth_shape':'_ssc',\n",
    "    'reduction_pipeline':'_log'\n",
    "}\n",
    "\n",
    "for calibration, abbreviation in calibrations.items():\n",
    "    cal_slice = reloc(doc_df,'newpath', calibration)\n",
    "    doc_df.loc[\n",
    "        cal_slice.index, 'product_id'\n",
    "    ] = 'urn:nasa:pds:urn:nasa:pds:ch1_m3:document:' +\\\n",
    "        cal_slice['path'].apply(basenamer).str.lower() + abbreviation + '::1.0'\n",
    "\n",
    "oddballs = eqloc(doc_df,'label_type','label')\n",
    "\n",
    "doc_df.loc[\n",
    "    oddballs.index, 'lidvid'\n",
    "] = 'urn:nasa:pds:urn:nasa:pds:ch1_m3:document:' + oddballs['root'] + '::1.0'"
   ]
  },
  {
   "cell_type": "code",
   "execution_count": 9,
   "metadata": {
    "scrolled": false
   },
   "outputs": [],
   "source": [
    "# all our products are primary. also, explanatory documentation in this collection will\n",
    "# be added to the inventory manually, not as part of this automated process.\n",
    "\n",
    "doc_df['type'] = 'P'\n",
    "\n",
    "collection_document_inventory = doc_df[['type', 'lidvid']].copy()\n",
    "\n",
    "collection_document_inventory.to_csv(\n",
    "    './directories/m3/collection_document_inventory.csv', \n",
    "    header = None, \n",
    "    index = None,\n",
    "    line_terminator='\\r\\n'\n",
    ")"
   ]
  },
  {
   "cell_type": "code",
   "execution_count": 18,
   "metadata": {},
   "outputs": [],
   "source": [
    "# all our products are primary. also, explanatory documentation in this collection will\n",
    "# be added to the inventory manually, not as part of this automated process.\n",
    "\n",
    "s3_browse_files = reloc(out_df,'path',r'browse/.*\\.xml', method='match')[['path']].copy()\n",
    "s3_browse_files['product_id_stem'] = s3_browse_files['path'].str.extract(r'(m3.*?.)\\.xml')\n",
    "grouped_ids = s3_browse_files['product_id_stem'].value_counts() # inspect for sanity check\n",
    "s3_browse_files['lidvid'] = 'urn:nasa:pds:urn:nasa:pds:ch1_m3:browse:' +\\\n",
    "        s3_browse_files['product_id_stem'] + '::1.0'\n",
    "s3_browse_files['type'] = 'P'"
   ]
  },
  {
   "cell_type": "code",
   "execution_count": 19,
   "metadata": {},
   "outputs": [],
   "source": [
    "collection_browse_inventory = s3_browse_files[['type', 'lidvid']].copy()\n",
    "collection_browse_inventory.to_csv(\n",
    "    './directories/m3/collection_browse_inventory.csv', \n",
    "    header = None, \n",
    "    index = None,\n",
    "    line_terminator='\\r\\n'\n",
    ")"
   ]
  }
 ],
 "metadata": {
  "kernelspec": {
   "display_name": "Python 3",
   "language": "python",
   "name": "python3"
  },
  "language_info": {
   "codemirror_mode": {
    "name": "ipython",
    "version": 3
   },
   "file_extension": ".py",
   "mimetype": "text/x-python",
   "name": "python",
   "nbconvert_exporter": "python",
   "pygments_lexer": "ipython3",
   "version": "3.8.6"
  },
  "varInspector": {
   "cols": {
    "lenName": 16,
    "lenType": 16,
    "lenVar": 40
   },
   "kernels_config": {
    "python": {
     "delete_cmd_postfix": "",
     "delete_cmd_prefix": "del ",
     "library": "var_list.py",
     "varRefreshCmd": "print(var_dic_list())"
    },
    "r": {
     "delete_cmd_postfix": ") ",
     "delete_cmd_prefix": "rm(",
     "library": "var_list.r",
     "varRefreshCmd": "cat(var_dic_list()) "
    }
   },
   "types_to_exclude": [
    "module",
    "function",
    "builtin_function_or_method",
    "instance",
    "_Feature"
   ],
   "window_display": false
  }
 },
 "nbformat": 4,
 "nbformat_minor": 4
}