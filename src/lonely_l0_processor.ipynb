{
 "cells": [
  {
   "cell_type": "markdown",
   "metadata": {},
   "source": [
    "# notebook for processing \"lonely\" L0 images\n",
    "\n",
    "This is a notebook for processing L0 images that didn't get reduced. This is a\n",
    "boring notebook that is unlikely to present any serious performance\n",
    "considerations or, indeed, generate interest of any type. Most of these files\n",
    "are very small; they are generally from observations that were interrupted\n",
    "quite early for some reason or other -- there's a reason the M3 team didn't\n",
    "bother to reduce them.\n",
    "\n",
    "This notebook's structure copies\n",
    "[triplet_processor.ipynb](triplet_processor.ipynb). This results in it looking\n",
    "kind of convoluted for something that converts individual files -- lots of\n",
    "single-element iterables."
   ]
  },
  {
   "cell_type": "code",
   "execution_count": null,
   "metadata": {},
   "outputs": [],
   "source": [
    "import datetime as dt\n",
    "from types import MappingProxyType\n",
    "\n",
    "import fs.path\n",
    "import pandas as pd\n",
    "from pvl.decoder import ParseError\n",
    "import sh\n",
    "\n",
    "from m3_bulk import basenamer, crude_time_log, make_m3_singlet, \\\n",
    "    fix_end_object_tags, m3_singlet_bundle_paths\n",
    "from m3_conversion import M3L0Converter"
   ]
  },
  {
   "cell_type": "code",
   "execution_count": null,
   "metadata": {},
   "outputs": [],
   "source": [
    "L0_EXTS = (\".LBL\", \".HDR\", \".IMG\")\n"
   ]
  },
  {
   "cell_type": "code",
   "execution_count": null,
   "metadata": {},
   "outputs": [],
   "source": [
    "# root directories of PDS3 and PDS4 data sets respectively\n",
    "input_dir = '/home/ubuntu/m3_input/'\n",
    "output_dir = '/home/ubuntu/m3_output/'\n",
    "\n",
    "# our directory of file mappings, grouped into m3 basename clusters\n",
    "file_mappings = pd.read_csv('./directories/m3/m3_data_mappings.csv')\n",
    "file_mappings[\"basename\"] = file_mappings[\"filepath\"].apply(basenamer)\n",
    "basename_groups = list(file_mappings.groupby(\"basename\"))\n",
    "\n",
    "# what kind of files does each pds4 product have?\n",
    "# paths to the locally-written versions are stored in the relevant attributes of \n",
    "# the associated PDSVersionConverter instance.\n",
    "pds4_filetypes = MappingProxyType({\n",
    "    'l0': ('pds4_label_file', 'clock_file', 'fits_image_file'),\n",
    "    'l1b': ('pds4_label_file', 'loc_file', 'tim_file', 'rdn_file', 'obs_file'),\n",
    "    'l2': ('pds4_label_file', 'sup_file', 'rfl_file')\n",
    "})"
   ]
  },
  {
   "cell_type": "code",
   "execution_count": null,
   "metadata": {
    "scrolled": false
   },
   "outputs": [],
   "source": [
    "# the triplets: what we are NOT converting here.\n",
    "reduced_groups = [group for group in basename_groups if len(group[1]) == 3]\n",
    "\n",
    "# the lonesome EDR images: what we ARE converting here.\n",
    "edr_groups = [group for group in basename_groups if len(group[1]) == 1]\n",
    "\n",
    "\n",
    "\n",
    "# just making darn sure with MappingProxyType that our constructors don't get edited\n",
    "# somehow in the middle. this is really only done this way for pattern parity with\n",
    "# triplet_processor.ipynb.\n",
    "converters = MappingProxyType({\n",
    "    'l0': M3L0Converter,\n",
    "})\n",
    "writers = {}  # empty dict to hold instances of the converter classes\n"
   ]
  },
  {
   "cell_type": "code",
   "execution_count": null,
   "metadata": {},
   "outputs": [],
   "source": [
    "# initialize iteration\n",
    "lonely_enumerator = enumerate(edr_groups)\n",
    "# these indices are for: restarting some way into the process after an error\n",
    "# or for breaking this up between concurrently-running processes. this\n",
    "# notebook was never parallelized and doesn't really need to be.\n",
    "start_ix = 0\n",
    "stop_ix = 80000 # i.e., infinity"
   ]
  },
  {
   "cell_type": "code",
   "execution_count": null,
   "metadata": {
    "pycharm": {
     "name": "#%%\n"
    },
    "scrolled": false
   },
   "outputs": [],
   "source": [
    "product_type = 'l0'\n",
    "for ix, group in lonely_enumerator:\n",
    "    if ix < start_ix:\n",
    "        continue\n",
    "    if ix >= stop_ix:\n",
    "        break\n",
    "    print(ix, len(edr_groups))\n",
    "    singlet_start_time = dt.datetime.now()\n",
    "\n",
    "    # organize the singlet and get its data from s3\n",
    "    group_files = make_m3_singlet(group)\n",
    "    print(\"beginning product conversion\")\n",
    "    # read the PDS3 product and perform file conversions \n",
    "    local_pds3_label_file = input_dir + fs.path.split(group_files[product_type][0])[0]\n",
    "    try:\n",
    "        writers[product_type] = converters[product_type](\n",
    "            local_pds3_label_file, suppress_warnings=True, clean=True, \n",
    "            template=\"./labels/m3/l0_lonely_template.xml\"\n",
    "        )\n",
    "    except ParseError: # fix broken END_OBJECT tags in some of the target-mode files  \n",
    "        print(\"fixing broken END_OBJECT tags\")\n",
    "        fix_end_object_tags(local_pds3_label_file)\n",
    "        writers[product_type] = converters[product_type](\n",
    "            local_pds3_label_file, suppress_warnings=True, clean=True, \n",
    "            template=\"./labels/m3/l0_lonely_template.xml\"\n",
    "        )\n",
    "\n",
    "        # what are the correct outpaths (relative to the root of the pds4 bundle) for these products?\n",
    "        bundle_paths = m3_singlet_bundle_paths(group)\n",
    "        # write PDS4 label and product files\n",
    "        # don't actually need to shave the extra / here but...\n",
    "        # this would be more safely rewritten with PyFilesystem\n",
    "        # (see clem-conversion)\n",
    "        output_path = output_dir + bundle_paths[product_type][1:]\n",
    "        sh.mkdir(\"-p\", output_path)\n",
    "        writers[product_type].write_pds4(\n",
    "            output_path, write_product_files=True, clean=True\n",
    "        )\n",
    "    # delete input files (for efficiency!)\n",
    "    for file in map(\n",
    "            lambda filename: fs.path.split(filename)[0],\n",
    "            group_files[product_type]\n",
    "    ):\n",
    "        sh.rm(input_dir+file)\n",
    "\n",
    "    # occasionally (slow but very useful) spot-check with validate tool\n",
    "    # note that this just invokes a one-line script at /usr/bin/validate\n",
    "    # that links to the local install of the PDS Validate Tool; this\n",
    "    # allows us to avoid throwing java stuff all over our environment\n",
    "    if ix % 50 == 1:\n",
    "        print(\"1-mod-50th singlet: running Validate Tool\")\n",
    "        validate_results = sh.validate(\"-t\", writers[product_type].pds4_label_file)\n",
    "        with open(\"validate_dump.txt\", \"a\") as file:\n",
    "            file.write(validate_results.stdout.decode())   \n",
    "        print(\"validated successfully\")\n",
    "\n",
    "    # log transfer crudely\n",
    "        crude_time_log(\n",
    "        \"m3_data_conversion_log_lonely.csv\",\n",
    "        writers[product_type],\n",
    "        str((dt.datetime.now() - singlet_start_time).total_seconds())\n",
    "    )"
   ]
  }
 ],
 "metadata": {
  "kernelspec": {
   "display_name": "Python 3",
   "language": "python",
   "name": "python3"
  },
  "language_info": {
   "codemirror_mode": {
    "name": "ipython",
    "version": 3
   },
   "file_extension": ".py",
   "mimetype": "text/x-python",
   "name": "python",
   "nbconvert_exporter": "python",
   "pygments_lexer": "ipython3",
   "version": "3.7.6"
  },
  "varInspector": {
   "cols": {
    "lenName": 16,
    "lenType": 16,
    "lenVar": 40
   },
   "kernels_config": {
    "python": {
     "delete_cmd_postfix": "",
     "delete_cmd_prefix": "del ",
     "library": "var_list.py",
     "varRefreshCmd": "print(var_dic_list())"
    },
    "r": {
     "delete_cmd_postfix": ") ",
     "delete_cmd_prefix": "rm(",
     "library": "var_list.r",
     "varRefreshCmd": "cat(var_dic_list()) "
    }
   },
   "types_to_exclude": [
    "module",
    "function",
    "builtin_function_or_method",
    "instance",
    "_Feature"
   ],
   "window_display": false
  }
 },
 "nbformat": 4,
 "nbformat_minor": 4
}
