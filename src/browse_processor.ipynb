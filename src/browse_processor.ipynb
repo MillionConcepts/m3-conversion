{
 "cells": [
  {
   "cell_type": "code",
   "execution_count": null,
   "metadata": {},
   "outputs": [],
   "source": [
    "from itertools import chain\n",
    "from types import MappingProxyType\n",
    "import os\n",
    "\n",
    "# chances are you're running this from a directory above /src\n",
    "os.chdir('..')\n",
    "\n",
    "from dateutil.parser import parse\n",
    "\n",
    "from aws_utils.ssh import *\n",
    "from bulk_conversion_notebooks.m3_bulk import basenamer, make_m3_triplet, \\\n",
    "    m3_triplet_bundle_paths, crude_time_log, fix_end_object_tags\n",
    "from m3_conversion import *\n",
    "from mtools.mweb import filename_from_path\n",
    "from pvl.decoder import ParseError"
   ]
  },
  {
   "cell_type": "code",
   "execution_count": null,
   "metadata": {},
   "outputs": [],
   "source": [
    "# where are our buckets mounted?\n",
    "input_directory = './remote/m3_input/'\n",
    "output_directory = './remote/m3_output/'"
   ]
  },
  {
   "cell_type": "code",
   "execution_count": null,
   "metadata": {},
   "outputs": [],
   "source": [
    "browse_files = []\n",
    "for av in range(3):\n",
    "    directory = input_directory + 'CH1M3_000' + str(av+1) + '/EXTRAS/BROWSE/'\n",
    "    dir_files = os.listdir(directory)\n",
    "    browse_files += [directory + file for file in dir_files]\n",
    "browse_files = pd.DataFrame([file for file in browse_files if '.JPG' in file], columns=['path'])\n",
    "browse_files['fn'] = browse_files['path'].apply(filename_from_path)\n",
    "browse_files['basename'] = browse_files[\"fn\"].apply(basenamer)\n",
    "unique_browse = browse_files.drop(\n",
    "    browse_files.loc[browse_files.duplicated(subset=\"fn\")].index\n",
    ")"
   ]
  },
  {
   "cell_type": "code",
   "execution_count": null,
   "metadata": {},
   "outputs": [],
   "source": [
    "browse_groups = list(unique_browse.groupby(\"basename\"))\n",
    "global_groups = [\n",
    "    group[1] for group in browse_groups\n",
    "    if 'M3G' in group[0] \n",
    "]\n",
    "target_groups = [\n",
    "    group[1] for group in browse_groups\n",
    "    if 'M3T' in group[0] \n",
    "]"
   ]
  },
  {
   "cell_type": "code",
   "execution_count": null,
   "metadata": {},
   "outputs": [],
   "source": [
    "assert all([len(group)==2 for group in global_groups])\n",
    "assert all([len(group)==4 for group in target_groups])"
   ]
  },
  {
   "cell_type": "code",
   "execution_count": null,
   "metadata": {
    "scrolled": true
   },
   "outputs": [],
   "source": [
    "for group in global_groups:\n",
    "    albedo_images = reloc(group,'fn','B046')\n",
    "    thermal_images = reloc(group, 'fn', 'B084')\n",
    "    assert len(albedo_images) == 1\n",
    "    assert len(thermal_images) == 1\n",
    "    time = parse(interpret_m3_basename(group['fn'].iloc[0])['time'])\n",
    "    year = str(time.year)\n",
    "    month = str(time.month)\n",
    "    day = str(time.day)\n",
    "    if len(month) == 1:\n",
    "        month = '0' + month\n",
    "    if len(day) == 1:\n",
    "        day = '0' + day\n",
    "    image_output_directory = output_directory + 'browse/'+year+month+'/'+year+month+day+'/' \n",
    "    sh.mkdir(\"-p\", image_output_directory)\n",
    "    albedo_writer = M3BrowseWriter(\n",
    "        albedo_images['path'].iloc[0]\n",
    "    )\n",
    "    thermal_writer = M3BrowseWriter(\n",
    "        thermal_images['path'].iloc[0]\n",
    "    )\n",
    "    albedo_writer.write_pds4(image_output_directory)\n",
    "    thermal_writer.write_pds4(image_output_directory)"
   ]
  },
  {
   "cell_type": "code",
   "execution_count": null,
   "metadata": {
    "scrolled": false
   },
   "outputs": [],
   "source": [
    "for group in target_groups:\n",
    "    albedo_images = reloc(group,'fn','(B046|B084|B105)')\n",
    "    thermal_images = reloc(group, 'fn', '(B250)')\n",
    "    assert len(albedo_images) == 3\n",
    "    assert len(thermal_images) == 1\n",
    "    time = parse(interpret_m3_basename(group['fn'].iloc[0])['time'])\n",
    "    year = str(time.year)\n",
    "    month = str(time.month)\n",
    "    day = str(time.day)\n",
    "    if len(month) == 1:\n",
    "        month = '0' + month\n",
    "    if len(day) == 1:\n",
    "        day = '0' + day\n",
    "    image_output_directory = output_directory + 'browse/'+year+month+'/'+year+month+day+'/' \n",
    "    sh.mkdir(\"-p\", image_output_directory)\n",
    "    albedo_writer = M3BrowseWriter(\n",
    "        albedo_images['path'].iloc[0],\n",
    "        second_image_path = albedo_images['path'].iloc[1],\n",
    "        third_image_path = albedo_images['path'].iloc[2]\n",
    "    )\n",
    "    thermal_writer = M3BrowseWriter(\n",
    "        thermal_images['path'].iloc[0],\n",
    "    )\n",
    "    albedo_writer.write_pds4(image_output_directory)\n",
    "    thermal_writer.write_pds4(image_output_directory)"
   ]
  },
  {
   "cell_type": "code",
   "execution_count": null,
   "metadata": {},
   "outputs": [],
   "source": [
    "validate_results = sh.validate(\"-t\", './remote/m3_output/browse/')"
   ]
  },
  {
   "cell_type": "code",
   "execution_count": null,
   "metadata": {},
   "outputs": [],
   "source": [
    "validate_results"
   ]
  }
 ],
 "metadata": {
  "kernelspec": {
   "display_name": "Python 3",
   "language": "python",
   "name": "python3"
  },
  "language_info": {
   "codemirror_mode": {
    "name": "ipython",
    "version": 3
   },
   "file_extension": ".py",
   "mimetype": "text/x-python",
   "name": "python",
   "nbconvert_exporter": "python",
   "pygments_lexer": "ipython3",
   "version": "3.7.6"
  },
  "varInspector": {
   "cols": {
    "lenName": 16,
    "lenType": 16,
    "lenVar": 40
   },
   "kernels_config": {
    "python": {
     "delete_cmd_postfix": "",
     "delete_cmd_prefix": "del ",
     "library": "var_list.py",
     "varRefreshCmd": "print(var_dic_list())"
    },
    "r": {
     "delete_cmd_postfix": ") ",
     "delete_cmd_prefix": "rm(",
     "library": "var_list.r",
     "varRefreshCmd": "cat(var_dic_list()) "
    }
   },
   "types_to_exclude": [
    "module",
    "function",
    "builtin_function_or_method",
    "instance",
    "_Feature"
   ],
   "window_display": false
  }
 },
 "nbformat": 4,
 "nbformat_minor": 4
}
