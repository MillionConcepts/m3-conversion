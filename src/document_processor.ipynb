{
 "cells": [
  {
   "cell_type": "markdown",
   "metadata": {
    "pycharm": {
     "name": "#%% md\n"
    }
   },
   "source": [
    "# m3 document collection workspace\n",
    "\n",
    "This is a very simple notebook to:\n",
    "1. write versions of the calibration products from the PDS3 archive\n",
    "2. move other document collection items to their correct locations\n",
    "and check matches between lids and filenames"
   ]
  },
  {
   "cell_type": "code",
   "execution_count": null,
   "metadata": {
    "pycharm": {
     "name": "#%%\n"
    }
   },
   "outputs": [],
   "source": [
    "import datetime as dt\n",
    "import os\n",
    "from collections import namedtuple\n",
    "\n",
    "import pandas as pd\n",
    "import sh\n",
    "\n",
    "from m3_bulk import crude_time_log\n",
    "from converter import place_label, enforce_name_match\n",
    "from converter_utils import name_root, eqloc"
   ]
  },
  {
   "cell_type": "code",
   "execution_count": null,
   "metadata": {},
   "outputs": [],
   "source": [
    "#don't bother doing this multiple times if you're running this concurrently\n",
    "# sh.s3fs(\n",
    "#     'mc-al-khwarizmi',\n",
    "#     './remote/m3_input'\n",
    "# )\n",
    "# sh.s3fs(\n",
    "#     'mc-al-khwarizmi-m3-output', \n",
    "#     './remote/m3_output'\n",
    "# )"
   ]
  },
  {
   "cell_type": "code",
   "execution_count": null,
   "metadata": {},
   "outputs": [],
   "source": [
    "# mappings for all document collection files\n",
    "from src.m3_conversion import M3FlatFieldWriter, M3PipelineLogWriter, \\\n",
    "    M3BDEWriter, M3SSCWriter\n",
    "\n",
    "doc_path_df = pd.read_csv('./directories/m3/m3_document_mappings.csv')\n",
    "\n",
    "\n",
    "# all our 'oddball' one-off label files\n",
    "label_files = []\n",
    "for root, dirs, files in os.walk('./labels/m3/'):\n",
    "    for file in files:\n",
    "        label_files.append(os.path.join(root, file))\n",
    "label_df = pd.DataFrame([\n",
    "        {'local_path':file,'filename':name_root(file)}\n",
    "        for file in label_files\n",
    "    ])\n",
    "\n",
    "# some of them have locally-converted or edited versions (PDF compliance, etc.)\n",
    "# note: EARTH_VIEW_IMAGE isn't included in the github repo because it's large,\n",
    "# but it's just a simple conversion using rasterio and converter_utils.fitsify()\n",
    "oddball_files = []\n",
    "for root, dirs, files in os.walk('./converted_oddballs/m3/'):\n",
    "    for file in files:\n",
    "        oddball_files.append(os.path.join(root, file))\n",
    "oddball_df = pd.DataFrame([\n",
    "        {\n",
    "            'local_path':file,\n",
    "            'filename':name_root(file)\n",
    "        }\n",
    "        for file in oddball_files\n",
    "    ])"
   ]
  },
  {
   "cell_type": "code",
   "execution_count": null,
   "metadata": {},
   "outputs": [],
   "source": [
    "# where are our bundles mounted?\n",
    "input_dir = '/home/ubuntu/m3_input'\n",
    "output_dir = '/home/ubuntu/m3_output'"
   ]
  },
  {
   "cell_type": "code",
   "execution_count": null,
   "metadata": {},
   "outputs": [],
   "source": [
    "# sanity check: do we have an individual label for each thing we think needs one?\n",
    "missing_labels = [\n",
    "    file for file in eqloc(doc_path_df, 'label_type', 'label')['root'].values\n",
    "    if file not in list(map(name_root, label_files))\n",
    "]\n",
    "assert len(missing_labels) == 0"
   ]
  },
  {
   "cell_type": "code",
   "execution_count": null,
   "metadata": {
    "pycharm": {
     "name": "#%%\n"
    },
    "scrolled": false
   },
   "outputs": [],
   "source": [
    "for product in doc_path_df.itertuples():\n",
    "    if product.root == 'earth_view_image':\n",
    "        continue\n",
    "    doc_start_time = dt.datetime.now()\n",
    "    print(product.root, product.path, product.Index)\n",
    "    if product.use_local != 'False':\n",
    "        # enforce match between putative filename root and local file\n",
    "        try:\n",
    "            product_file = eqloc(\n",
    "                oddball_df, \"filename\", product.root\n",
    "            )[\"local_path\"].values[0]\n",
    "        except IndexError:\n",
    "            raise ValueError(\"missing local version for \" + product.root)\n",
    "    else:\n",
    "        product_file = input_dir + product.path\n",
    "    sh.mkdir('-p', output_dir + product.newpath)\n",
    "    if product.label_type == 'label':\n",
    "        writer = place_label(product, label_df, product_file, output_dir)\n",
    "        # validate every oddball; these labels were all manually\n",
    "        # generated\n",
    "        validate_results = sh.validate(\"-t\", writer['label'])\n",
    "        with open(\"validate_dump.txt\", \"a\") as file:\n",
    "            file.write(validate_results.stdout.decode())\n",
    "        print(\"validated successfully\")\n",
    "    elif product.label_type == 'template':\n",
    "        if 'reduction_pipeline' in product.newpath:\n",
    "            writer = M3PipelineLogWriter(product_file)\n",
    "            writer.write_pds4(\n",
    "                output_dir + product.newpath +\"/\",\n",
    "                write_product_files=True\n",
    "            )\n",
    "        elif 'flat_field' in product.newpath:\n",
    "            # note: a handful of these are missing envi headers,\n",
    "            # which made rasterio choke;\n",
    "            # as all their headers (within global/target) \n",
    "            # are identical, we just make copies for them\n",
    "            writer = M3FlatFieldWriter(product_file)\n",
    "            writer.write_pds4(\n",
    "                output_dir + product.newpath + \"/\",\n",
    "                write_product_files=True\n",
    "            )\n",
    "        elif 'bad_detector_element' in product.newpath:\n",
    "            writer = M3BDEWriter(product_file)\n",
    "            writer.write_pds4(\n",
    "                output_dir + product.newpath + \"/\",\n",
    "                write_product_files=True\n",
    "            )\n",
    "        elif 'smooth_shape_curve' in product.newpath:\n",
    "            writer = M3SSCWriter(product_file)\n",
    "            writer.write_pds4(\n",
    "                output_dir + product.newpath + \"/\",\n",
    "                write_product_files=True\n",
    "            )\n",
    "        # enforce match between LID, filename, and putative product\n",
    "        enforce_name_match(\"\".join(writer.PDS4_LABEL), writer.pds4_root)\n",
    "        # validate only one in 10 of these\n",
    "        if product.Index % 10 == 0:\n",
    "            print(\"0-mod-10th templated document: running Validate Tool\")\n",
    "            validate_results = sh.validate(\"-t\", writer.pds4_label_file)\n",
    "            with open(\"validate_dump.txt\", \"a\") as file:\n",
    "                file.write(validate_results.stdout.decode())\n",
    "            print(\"validated successfully\")\n",
    "    \n",
    "    # this is just a stupid bandaid for logging\n",
    "    if isinstance(product.root, str):\n",
    "        root = product.root\n",
    "    else:\n",
    "        root = writer.pds4_root\n",
    "        \n",
    "    crude_time_log(\n",
    "            \"m3_document_conversion_log\",\n",
    "            namedtuple('stupid_bandaid','pds4_label_file')(product.newpath+'/'+root+'.xml'),\n",
    "            str((dt.datetime.now() - doc_start_time).total_seconds())\n",
    "        )\n",
    "    print(\n",
    "        \"done with this document; total seconds \" \n",
    "        + str((dt.datetime.now() - doc_start_time).total_seconds())\n",
    "    )"
   ]
  }
 ],
 "metadata": {
  "kernelspec": {
   "display_name": "Python 3",
   "language": "python",
   "name": "python3"
  },
  "language_info": {
   "codemirror_mode": {
    "name": "ipython",
    "version": 3
   },
   "file_extension": ".py",
   "mimetype": "text/x-python",
   "name": "python",
   "nbconvert_exporter": "python",
   "pygments_lexer": "ipython3",
   "version": "3.7.6"
  },
  "varInspector": {
   "cols": {
    "lenName": 16,
    "lenType": 16,
    "lenVar": 40
   },
   "kernels_config": {
    "python": {
     "delete_cmd_postfix": "",
     "delete_cmd_prefix": "del ",
     "library": "var_list.py",
     "varRefreshCmd": "print(var_dic_list())"
    },
    "r": {
     "delete_cmd_postfix": ") ",
     "delete_cmd_prefix": "rm(",
     "library": "var_list.r",
     "varRefreshCmd": "cat(var_dic_list()) "
    }
   },
   "types_to_exclude": [
    "module",
    "function",
    "builtin_function_or_method",
    "instance",
    "_Feature"
   ],
   "window_display": false
  }
 },
 "nbformat": 4,
 "nbformat_minor": 4
}
